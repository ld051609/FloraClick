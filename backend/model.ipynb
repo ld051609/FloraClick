{
 "cells": [
  {
   "cell_type": "code",
   "execution_count": 37,
   "metadata": {},
   "outputs": [],
   "source": [
    "import matplotlib.pyplot as plt\n",
    "import numpy as np\n",
    "import os\n",
    "import tensorflow as tf"
   ]
  },
  {
   "cell_type": "code",
   "execution_count": 47,
   "metadata": {},
   "outputs": [
    {
     "name": "stdout",
     "output_type": "stream",
     "text": [
      "Renamed \"61\" to \"cautleya spicata\"\n",
      "Renamed \"95\" to \"bougainvillea\"\n",
      "Renamed \"59\" to \"orange dahlia\"\n",
      "Renamed \"92\" to \"bee balm\"\n",
      "Renamed \"66\" to \"osteospermum\"\n",
      "Renamed \"50\" to \"common dandelion\"\n",
      "Renamed \"68\" to \"bearded iris\"\n",
      "Renamed \"57\" to \"gaura\"\n",
      "Renamed \"32\" to \"garden phlox\"\n",
      "Renamed \"35\" to \"alpine sea holly\"\n",
      "Renamed \"102\" to \"blackberry lily\"\n",
      "Renamed \"69\" to \"windflower\"\n",
      "Renamed \"56\" to \"bishop of llandaff\"\n",
      "Renamed \"51\" to \"petunia\"\n",
      "Renamed \"58\" to \"geranium\"\n",
      "Renamed \"67\" to \"spring crocus\"\n",
      "Renamed \"93\" to \"ball moss\"\n",
      "Renamed \"94\" to \"foxglove\"\n",
      "Renamed \"60\" to \"pink-yellow dahlia\"\n",
      "Renamed \"34\" to \"mexican aster\"\n",
      "Renamed \"33\" to \"love in the mist\"\n",
      "Renamed \"20\" to \"giant white arum lily\"\n",
      "Renamed \"18\" to \"peruvian lily\"\n",
      "Renamed \"27\" to \"prince of wales feathers\"\n",
      "Renamed \"9\" to \"monkshood\"\n",
      "Renamed \"11\" to \"snapdragon\"\n",
      "Renamed \"7\" to \"moon orchid\"\n",
      "Renamed \"29\" to \"artichoke\"\n",
      "Renamed \"16\" to \"globe-flower\"\n",
      "Renamed \"42\" to \"daffodil\"\n",
      "Renamed \"89\" to \"watercress\"\n",
      "Renamed \"45\" to \"bolero deep blue\"\n",
      "Renamed \"73\" to \"water lily\"\n",
      "Renamed \"87\" to \"magnolia\"\n",
      "Renamed \"80\" to \"anthurium\"\n",
      "Renamed \"74\" to \"rose\"\n",
      "Renamed \"6\" to \"tiger lily\"\n",
      "Renamed \"28\" to \"stemless gentian\"\n",
      "Renamed \"17\" to \"purple coneflower\"\n",
      "Renamed \"1\" to \"pink primrose\"\n",
      "Renamed \"10\" to \"globe thistle\"\n",
      "Renamed \"19\" to \"balloon flower\"\n",
      "Renamed \"26\" to \"corn poppy\"\n",
      "Renamed \"8\" to \"bird of paradise\"\n",
      "Renamed \"21\" to \"fire lily\"\n",
      "Renamed \"75\" to \"thorn apple\"\n",
      "Renamed \"81\" to \"frangipani\"\n",
      "Renamed \"86\" to \"tree mallow\"\n",
      "Renamed \"72\" to \"azalea\"\n",
      "Renamed \"44\" to \"poinsettia\"\n",
      "Renamed \"43\" to \"sword lily\"\n",
      "Renamed \"88\" to \"cyclamen\"\n",
      "Renamed \"38\" to \"great masterwort\"\n",
      "Renamed \"36\" to \"ruby-lipped cattleya\"\n",
      "Renamed \"31\" to \"carnation\"\n",
      "Renamed \"91\" to \"hippeastrum\"\n",
      "Renamed \"65\" to \"californian poppy\"\n",
      "Renamed \"62\" to \"japanese anemone\"\n",
      "Renamed \"96\" to \"camellia\"\n",
      "Renamed \"100\" to \"blanket flower\"\n",
      "Renamed \"54\" to \"sunflower\"\n",
      "Renamed \"98\" to \"mexican petunia\"\n",
      "Renamed \"53\" to \"primula\"\n",
      "Renamed \"30\" to \"sweet william\"\n",
      "Renamed \"37\" to \"cape flower\"\n",
      "Renamed \"39\" to \"siam tulip\"\n",
      "Renamed \"99\" to \"bromelia\"\n",
      "Renamed \"52\" to \"wild pansy\"\n",
      "Renamed \"101\" to \"trumpet creeper\"\n",
      "Renamed \"55\" to \"pelargonium\"\n",
      "Renamed \"97\" to \"mallow\"\n",
      "Renamed \"63\" to \"black-eyed susan\"\n",
      "Renamed \"64\" to \"silverbush\"\n",
      "Renamed \"90\" to \"canna lily\"\n",
      "Renamed \"46\" to \"wallflower\"\n",
      "Renamed \"79\" to \"toad lily\"\n",
      "Renamed \"41\" to \"barbeton daisy\"\n",
      "Renamed \"83\" to \"hibiscus\"\n",
      "Renamed \"77\" to \"passion flower\"\n",
      "Renamed \"48\" to \"buttercup\"\n",
      "Renamed \"70\" to \"tree poppy\"\n",
      "Renamed \"84\" to \"columbine\"\n",
      "Renamed \"24\" to \"red ginger\"\n",
      "Renamed \"23\" to \"fritillary\"\n",
      "Renamed \"4\" to \"sweet pea\"\n",
      "Renamed \"15\" to \"yellow iris\"\n",
      "Renamed \"3\" to \"canterbury bells\"\n",
      "Renamed \"12\" to \"colt's foot\"\n",
      "Renamed \"85\" to \"desert-rose\"\n",
      "Renamed \"71\" to \"gazania\"\n",
      "Renamed \"76\" to \"morning glory\"\n",
      "Renamed \"82\" to \"clematis\"\n",
      "Renamed \"49\" to \"oxeye daisy\"\n",
      "Renamed \"40\" to \"lenten rose\"\n",
      "Renamed \"47\" to \"marigold\"\n",
      "Renamed \"78\" to \"lotus lotus\"\n",
      "Renamed \"2\" to \"hard-leaved pocket orchid\"\n",
      "Renamed \"13\" to \"king protea\"\n",
      "Renamed \"5\" to \"english marigold\"\n",
      "Renamed \"14\" to \"spear thistle\"\n",
      "Renamed \"22\" to \"pincushion flower\"\n",
      "Renamed \"25\" to \"grape hyacinth\"\n",
      "Folder renaming completed.\n"
     ]
    }
   ],
   "source": [
    "import os\n",
    "import shutil\n",
    "\n",
    "# Mapping of old folder names to new folder names\n",
    "mapping = {\n",
    "    \"21\": \"fire lily\", \"3\": \"canterbury bells\", \"45\": \"bolero deep blue\", \"1\": \"pink primrose\",\n",
    "    \"34\": \"mexican aster\", \"27\": \"prince of wales feathers\", \"7\": \"moon orchid\", \"16\": \"globe-flower\",\n",
    "    \"25\": \"grape hyacinth\", \"26\": \"corn poppy\", \"79\": \"toad lily\", \"39\": \"siam tulip\", \"24\": \"red ginger\",\n",
    "    \"67\": \"spring crocus\", \"35\": \"alpine sea holly\", \"32\": \"garden phlox\", \"10\": \"globe thistle\",\n",
    "    \"6\": \"tiger lily\", \"93\": \"ball moss\", \"33\": \"love in the mist\", \"9\": \"monkshood\", \"102\": \"blackberry lily\",\n",
    "    \"14\": \"spear thistle\", \"19\": \"balloon flower\", \"100\": \"blanket flower\", \"13\": \"king protea\",\n",
    "    \"49\": \"oxeye daisy\", \"15\": \"yellow iris\", \"61\": \"cautleya spicata\", \"31\": \"carnation\", \"64\": \"silverbush\",\n",
    "    \"68\": \"bearded iris\", \"63\": \"black-eyed susan\", \"69\": \"windflower\", \"62\": \"japanese anemone\",\n",
    "    \"20\": \"giant white arum lily\", \"38\": \"great masterwort\", \"4\": \"sweet pea\", \"86\": \"tree mallow\",\n",
    "    \"101\": \"trumpet creeper\", \"42\": \"daffodil\", \"22\": \"pincushion flower\", \"2\": \"hard-leaved pocket orchid\",\n",
    "    \"54\": \"sunflower\", \"66\": \"osteospermum\", \"70\": \"tree poppy\", \"85\": \"desert-rose\", \"99\": \"bromelia\",\n",
    "    \"87\": \"magnolia\", \"5\": \"english marigold\", \"92\": \"bee balm\", \"28\": \"stemless gentian\", \"97\": \"mallow\",\n",
    "    \"57\": \"gaura\", \"40\": \"lenten rose\", \"47\": \"marigold\", \"59\": \"orange dahlia\", \"48\": \"buttercup\",\n",
    "    \"55\": \"pelargonium\", \"36\": \"ruby-lipped cattleya\", \"91\": \"hippeastrum\", \"29\": \"artichoke\", \"71\": \"gazania\",\n",
    "    \"90\": \"canna lily\", \"18\": \"peruvian lily\", \"98\": \"mexican petunia\", \"8\": \"bird of paradise\",\n",
    "    \"30\": \"sweet william\", \"17\": \"purple coneflower\", \"52\": \"wild pansy\", \"84\": \"columbine\",\n",
    "    \"12\": \"colt's foot\", \"11\": \"snapdragon\", \"96\": \"camellia\", \"23\": \"fritillary\", \"50\": \"common dandelion\",\n",
    "    \"44\": \"poinsettia\", \"53\": \"primula\", \"72\": \"azalea\", \"65\": \"californian poppy\", \"80\": \"anthurium\",\n",
    "    \"76\": \"morning glory\", \"37\": \"cape flower\", \"56\": \"bishop of llandaff\", \"60\": \"pink-yellow dahlia\",\n",
    "    \"82\": \"clematis\", \"58\": \"geranium\", \"75\": \"thorn apple\", \"41\": \"barbeton daisy\", \"95\": \"bougainvillea\",\n",
    "    \"43\": \"sword lily\", \"83\": \"hibiscus\", \"78\": \"lotus lotus\", \"88\": \"cyclamen\", \"94\": \"foxglove\",\n",
    "    \"81\": \"frangipani\", \"74\": \"rose\", \"89\": \"watercress\", \"73\": \"water lily\", \"46\": \"wallflower\",\n",
    "    \"77\": \"passion flower\", \"51\": \"petunia\"\n",
    "}\n",
    "\n",
    "# Path to the dataset directory\n",
    "path = './dataset/valid'\n",
    "\n",
    "# Rename folders based on the mapping\n",
    "for folder in os.listdir(path):\n",
    "    old_folder_path = os.path.join(path, folder)\n",
    "    if os.path.isdir(old_folder_path):\n",
    "        new_folder_name = mapping.get(folder)\n",
    "        if new_folder_name:\n",
    "            new_folder_path = os.path.join(path, new_folder_name)\n",
    "            shutil.move(old_folder_path, new_folder_path)\n",
    "            print(f'Renamed \"{folder}\" to \"{new_folder_name}\"')\n",
    "\n",
    "print(\"Folder renaming completed.\")\n"
   ]
  },
  {
   "cell_type": "code",
   "execution_count": 49,
   "metadata": {},
   "outputs": [
    {
     "name": "stdout",
     "output_type": "stream",
     "text": [
      "Found 6552 files belonging to 102 classes.\n",
      "Found 818 files belonging to 102 classes.\n"
     ]
    }
   ],
   "source": [
    "train_dir = './dataset/train'\n",
    "val_dir = './dataset/valid'\n",
    "BATCH_SIZE = 32\n",
    "IMG_SIZE = (160, 160)\n",
    "\n",
    "train_ds = tf.keras.utils.image_dataset_from_directory(\n",
    "    train_dir,\n",
    "    labels='inferred',\n",
    "    label_mode='int',\n",
    "    batch_size=BATCH_SIZE,\n",
    "    shuffle=True,\n",
    "    seed=123,\n",
    "    image_size=IMG_SIZE\n",
    ")\n",
    "val_ds = tf.keras.utils.image_dataset_from_directory(\n",
    "    val_dir,\n",
    "    labels='inferred',\n",
    "    label_mode='int',\n",
    "    batch_size=BATCH_SIZE,\n",
    "    shuffle=True,\n",
    "    seed=123,\n",
    "    image_size=IMG_SIZE\n",
    ")\n"
   ]
  },
  {
   "cell_type": "code",
   "execution_count": 50,
   "metadata": {},
   "outputs": [
    {
     "data": {
      "text/plain": [
       "['alpine sea holly',\n",
       " 'anthurium',\n",
       " 'artichoke',\n",
       " 'azalea',\n",
       " 'ball moss',\n",
       " 'balloon flower',\n",
       " 'barbeton daisy',\n",
       " 'bearded iris',\n",
       " 'bee balm',\n",
       " 'bird of paradise',\n",
       " 'bishop of llandaff',\n",
       " 'black-eyed susan',\n",
       " 'blackberry lily',\n",
       " 'blanket flower',\n",
       " 'bolero deep blue',\n",
       " 'bougainvillea',\n",
       " 'bromelia',\n",
       " 'buttercup',\n",
       " 'californian poppy',\n",
       " 'camellia',\n",
       " 'canna lily',\n",
       " 'canterbury bells',\n",
       " 'cape flower',\n",
       " 'carnation',\n",
       " 'cautleya spicata',\n",
       " 'clematis',\n",
       " \"colt's foot\",\n",
       " 'columbine',\n",
       " 'common dandelion',\n",
       " 'corn poppy',\n",
       " 'cyclamen',\n",
       " 'daffodil',\n",
       " 'desert-rose',\n",
       " 'english marigold',\n",
       " 'fire lily',\n",
       " 'foxglove',\n",
       " 'frangipani',\n",
       " 'fritillary',\n",
       " 'garden phlox',\n",
       " 'gaura',\n",
       " 'gazania',\n",
       " 'geranium',\n",
       " 'giant white arum lily',\n",
       " 'globe thistle',\n",
       " 'globe-flower',\n",
       " 'grape hyacinth',\n",
       " 'great masterwort',\n",
       " 'hard-leaved pocket orchid',\n",
       " 'hibiscus',\n",
       " 'hippeastrum',\n",
       " 'japanese anemone',\n",
       " 'king protea',\n",
       " 'lenten rose',\n",
       " 'lotus lotus',\n",
       " 'love in the mist',\n",
       " 'magnolia',\n",
       " 'mallow',\n",
       " 'marigold',\n",
       " 'mexican aster',\n",
       " 'mexican petunia',\n",
       " 'monkshood',\n",
       " 'moon orchid',\n",
       " 'morning glory',\n",
       " 'orange dahlia',\n",
       " 'osteospermum',\n",
       " 'oxeye daisy',\n",
       " 'passion flower',\n",
       " 'pelargonium',\n",
       " 'peruvian lily',\n",
       " 'petunia',\n",
       " 'pincushion flower',\n",
       " 'pink primrose',\n",
       " 'pink-yellow dahlia',\n",
       " 'poinsettia',\n",
       " 'primula',\n",
       " 'prince of wales feathers',\n",
       " 'purple coneflower',\n",
       " 'red ginger',\n",
       " 'rose',\n",
       " 'ruby-lipped cattleya',\n",
       " 'siam tulip',\n",
       " 'silverbush',\n",
       " 'snapdragon',\n",
       " 'spear thistle',\n",
       " 'spring crocus',\n",
       " 'stemless gentian',\n",
       " 'sunflower',\n",
       " 'sweet pea',\n",
       " 'sweet william',\n",
       " 'sword lily',\n",
       " 'thorn apple',\n",
       " 'tiger lily',\n",
       " 'toad lily',\n",
       " 'tree mallow',\n",
       " 'tree poppy',\n",
       " 'trumpet creeper',\n",
       " 'wallflower',\n",
       " 'water lily',\n",
       " 'watercress',\n",
       " 'wild pansy',\n",
       " 'windflower',\n",
       " 'yellow iris']"
      ]
     },
     "execution_count": 50,
     "metadata": {},
     "output_type": "execute_result"
    }
   ],
   "source": [
    "class_names = train_ds.class_names\n",
    "class_names"
   ]
  },
  {
   "cell_type": "code",
   "execution_count": 51,
   "metadata": {},
   "outputs": [],
   "source": [
    "AUTOTUNE = tf.data.experimental.AUTOTUNE    \n",
    "train_dataset = train_ds.prefetch(buffer_size=AUTOTUNE)\n",
    "validation_dataset = val_ds.prefetch(buffer_size=AUTOTUNE)\n"
   ]
  },
  {
   "cell_type": "markdown",
   "metadata": {},
   "source": [
    "### Model "
   ]
  },
  {
   "cell_type": "code",
   "execution_count": 52,
   "metadata": {},
   "outputs": [],
   "source": [
    "base_model = tf.keras.applications.MobileNetV2(input_shape=IMG_SIZE + (3,),\n",
    "                                               include_top=False,\n",
    "                                               weights='imagenet')\n",
    "base_model.trainable = False"
   ]
  },
  {
   "cell_type": "code",
   "execution_count": 53,
   "metadata": {},
   "outputs": [],
   "source": [
    "# Adding additional layers to the model\n",
    "preprocess_input = tf.keras.applications.mobilenet_v2.preprocess_input\n",
    "global_average_layer = tf.keras.layers.GlobalAveragePooling2D()\n",
    "prediction_layer = tf.keras.layers.Dense(len(class_names), activation='softmax')\n"
   ]
  },
  {
   "cell_type": "code",
   "execution_count": 54,
   "metadata": {},
   "outputs": [
    {
     "data": {
      "text/html": [
       "<pre style=\"white-space:pre;overflow-x:auto;line-height:normal;font-family:Menlo,'DejaVu Sans Mono',consolas,'Courier New',monospace\"><span style=\"font-weight: bold\">Model: \"functional_1\"</span>\n",
       "</pre>\n"
      ],
      "text/plain": [
       "\u001b[1mModel: \"functional_1\"\u001b[0m\n"
      ]
     },
     "metadata": {},
     "output_type": "display_data"
    },
    {
     "data": {
      "text/html": [
       "<pre style=\"white-space:pre;overflow-x:auto;line-height:normal;font-family:Menlo,'DejaVu Sans Mono',consolas,'Courier New',monospace\">┏━━━━━━━━━━━━━━━━━━━━━━━━━━━━━━━━━┳━━━━━━━━━━━━━━━━━━━━━━━━┳━━━━━━━━━━━━━━━┓\n",
       "┃<span style=\"font-weight: bold\"> Layer (type)                    </span>┃<span style=\"font-weight: bold\"> Output Shape           </span>┃<span style=\"font-weight: bold\">       Param # </span>┃\n",
       "┡━━━━━━━━━━━━━━━━━━━━━━━━━━━━━━━━━╇━━━━━━━━━━━━━━━━━━━━━━━━╇━━━━━━━━━━━━━━━┩\n",
       "│ input_layer_1 (<span style=\"color: #0087ff; text-decoration-color: #0087ff\">InputLayer</span>)      │ (<span style=\"color: #00d7ff; text-decoration-color: #00d7ff\">None</span>, <span style=\"color: #00af00; text-decoration-color: #00af00\">160</span>, <span style=\"color: #00af00; text-decoration-color: #00af00\">160</span>, <span style=\"color: #00af00; text-decoration-color: #00af00\">3</span>)    │             <span style=\"color: #00af00; text-decoration-color: #00af00\">0</span> │\n",
       "├─────────────────────────────────┼────────────────────────┼───────────────┤\n",
       "│ true_divide (<span style=\"color: #0087ff; text-decoration-color: #0087ff\">TrueDivide</span>)        │ (<span style=\"color: #00d7ff; text-decoration-color: #00d7ff\">None</span>, <span style=\"color: #00af00; text-decoration-color: #00af00\">160</span>, <span style=\"color: #00af00; text-decoration-color: #00af00\">160</span>, <span style=\"color: #00af00; text-decoration-color: #00af00\">3</span>)    │             <span style=\"color: #00af00; text-decoration-color: #00af00\">0</span> │\n",
       "├─────────────────────────────────┼────────────────────────┼───────────────┤\n",
       "│ subtract (<span style=\"color: #0087ff; text-decoration-color: #0087ff\">Subtract</span>)             │ (<span style=\"color: #00d7ff; text-decoration-color: #00d7ff\">None</span>, <span style=\"color: #00af00; text-decoration-color: #00af00\">160</span>, <span style=\"color: #00af00; text-decoration-color: #00af00\">160</span>, <span style=\"color: #00af00; text-decoration-color: #00af00\">3</span>)    │             <span style=\"color: #00af00; text-decoration-color: #00af00\">0</span> │\n",
       "├─────────────────────────────────┼────────────────────────┼───────────────┤\n",
       "│ mobilenetv2_1.00_160            │ (<span style=\"color: #00d7ff; text-decoration-color: #00d7ff\">None</span>, <span style=\"color: #00af00; text-decoration-color: #00af00\">5</span>, <span style=\"color: #00af00; text-decoration-color: #00af00\">5</span>, <span style=\"color: #00af00; text-decoration-color: #00af00\">1280</span>)     │     <span style=\"color: #00af00; text-decoration-color: #00af00\">2,257,984</span> │\n",
       "│ (<span style=\"color: #0087ff; text-decoration-color: #0087ff\">Functional</span>)                    │                        │               │\n",
       "├─────────────────────────────────┼────────────────────────┼───────────────┤\n",
       "│ global_average_pooling2d        │ (<span style=\"color: #00d7ff; text-decoration-color: #00d7ff\">None</span>, <span style=\"color: #00af00; text-decoration-color: #00af00\">1280</span>)           │             <span style=\"color: #00af00; text-decoration-color: #00af00\">0</span> │\n",
       "│ (<span style=\"color: #0087ff; text-decoration-color: #0087ff\">GlobalAveragePooling2D</span>)        │                        │               │\n",
       "├─────────────────────────────────┼────────────────────────┼───────────────┤\n",
       "│ dropout (<span style=\"color: #0087ff; text-decoration-color: #0087ff\">Dropout</span>)               │ (<span style=\"color: #00d7ff; text-decoration-color: #00d7ff\">None</span>, <span style=\"color: #00af00; text-decoration-color: #00af00\">1280</span>)           │             <span style=\"color: #00af00; text-decoration-color: #00af00\">0</span> │\n",
       "├─────────────────────────────────┼────────────────────────┼───────────────┤\n",
       "│ dense (<span style=\"color: #0087ff; text-decoration-color: #0087ff\">Dense</span>)                   │ (<span style=\"color: #00d7ff; text-decoration-color: #00d7ff\">None</span>, <span style=\"color: #00af00; text-decoration-color: #00af00\">102</span>)            │       <span style=\"color: #00af00; text-decoration-color: #00af00\">130,662</span> │\n",
       "└─────────────────────────────────┴────────────────────────┴───────────────┘\n",
       "</pre>\n"
      ],
      "text/plain": [
       "┏━━━━━━━━━━━━━━━━━━━━━━━━━━━━━━━━━┳━━━━━━━━━━━━━━━━━━━━━━━━┳━━━━━━━━━━━━━━━┓\n",
       "┃\u001b[1m \u001b[0m\u001b[1mLayer (type)                   \u001b[0m\u001b[1m \u001b[0m┃\u001b[1m \u001b[0m\u001b[1mOutput Shape          \u001b[0m\u001b[1m \u001b[0m┃\u001b[1m \u001b[0m\u001b[1m      Param #\u001b[0m\u001b[1m \u001b[0m┃\n",
       "┡━━━━━━━━━━━━━━━━━━━━━━━━━━━━━━━━━╇━━━━━━━━━━━━━━━━━━━━━━━━╇━━━━━━━━━━━━━━━┩\n",
       "│ input_layer_1 (\u001b[38;5;33mInputLayer\u001b[0m)      │ (\u001b[38;5;45mNone\u001b[0m, \u001b[38;5;34m160\u001b[0m, \u001b[38;5;34m160\u001b[0m, \u001b[38;5;34m3\u001b[0m)    │             \u001b[38;5;34m0\u001b[0m │\n",
       "├─────────────────────────────────┼────────────────────────┼───────────────┤\n",
       "│ true_divide (\u001b[38;5;33mTrueDivide\u001b[0m)        │ (\u001b[38;5;45mNone\u001b[0m, \u001b[38;5;34m160\u001b[0m, \u001b[38;5;34m160\u001b[0m, \u001b[38;5;34m3\u001b[0m)    │             \u001b[38;5;34m0\u001b[0m │\n",
       "├─────────────────────────────────┼────────────────────────┼───────────────┤\n",
       "│ subtract (\u001b[38;5;33mSubtract\u001b[0m)             │ (\u001b[38;5;45mNone\u001b[0m, \u001b[38;5;34m160\u001b[0m, \u001b[38;5;34m160\u001b[0m, \u001b[38;5;34m3\u001b[0m)    │             \u001b[38;5;34m0\u001b[0m │\n",
       "├─────────────────────────────────┼────────────────────────┼───────────────┤\n",
       "│ mobilenetv2_1.00_160            │ (\u001b[38;5;45mNone\u001b[0m, \u001b[38;5;34m5\u001b[0m, \u001b[38;5;34m5\u001b[0m, \u001b[38;5;34m1280\u001b[0m)     │     \u001b[38;5;34m2,257,984\u001b[0m │\n",
       "│ (\u001b[38;5;33mFunctional\u001b[0m)                    │                        │               │\n",
       "├─────────────────────────────────┼────────────────────────┼───────────────┤\n",
       "│ global_average_pooling2d        │ (\u001b[38;5;45mNone\u001b[0m, \u001b[38;5;34m1280\u001b[0m)           │             \u001b[38;5;34m0\u001b[0m │\n",
       "│ (\u001b[38;5;33mGlobalAveragePooling2D\u001b[0m)        │                        │               │\n",
       "├─────────────────────────────────┼────────────────────────┼───────────────┤\n",
       "│ dropout (\u001b[38;5;33mDropout\u001b[0m)               │ (\u001b[38;5;45mNone\u001b[0m, \u001b[38;5;34m1280\u001b[0m)           │             \u001b[38;5;34m0\u001b[0m │\n",
       "├─────────────────────────────────┼────────────────────────┼───────────────┤\n",
       "│ dense (\u001b[38;5;33mDense\u001b[0m)                   │ (\u001b[38;5;45mNone\u001b[0m, \u001b[38;5;34m102\u001b[0m)            │       \u001b[38;5;34m130,662\u001b[0m │\n",
       "└─────────────────────────────────┴────────────────────────┴───────────────┘\n"
      ]
     },
     "metadata": {},
     "output_type": "display_data"
    },
    {
     "data": {
      "text/html": [
       "<pre style=\"white-space:pre;overflow-x:auto;line-height:normal;font-family:Menlo,'DejaVu Sans Mono',consolas,'Courier New',monospace\"><span style=\"font-weight: bold\"> Total params: </span><span style=\"color: #00af00; text-decoration-color: #00af00\">2,388,646</span> (9.11 MB)\n",
       "</pre>\n"
      ],
      "text/plain": [
       "\u001b[1m Total params: \u001b[0m\u001b[38;5;34m2,388,646\u001b[0m (9.11 MB)\n"
      ]
     },
     "metadata": {},
     "output_type": "display_data"
    },
    {
     "data": {
      "text/html": [
       "<pre style=\"white-space:pre;overflow-x:auto;line-height:normal;font-family:Menlo,'DejaVu Sans Mono',consolas,'Courier New',monospace\"><span style=\"font-weight: bold\"> Trainable params: </span><span style=\"color: #00af00; text-decoration-color: #00af00\">130,662</span> (510.40 KB)\n",
       "</pre>\n"
      ],
      "text/plain": [
       "\u001b[1m Trainable params: \u001b[0m\u001b[38;5;34m130,662\u001b[0m (510.40 KB)\n"
      ]
     },
     "metadata": {},
     "output_type": "display_data"
    },
    {
     "data": {
      "text/html": [
       "<pre style=\"white-space:pre;overflow-x:auto;line-height:normal;font-family:Menlo,'DejaVu Sans Mono',consolas,'Courier New',monospace\"><span style=\"font-weight: bold\"> Non-trainable params: </span><span style=\"color: #00af00; text-decoration-color: #00af00\">2,257,984</span> (8.61 MB)\n",
       "</pre>\n"
      ],
      "text/plain": [
       "\u001b[1m Non-trainable params: \u001b[0m\u001b[38;5;34m2,257,984\u001b[0m (8.61 MB)\n"
      ]
     },
     "metadata": {},
     "output_type": "display_data"
    }
   ],
   "source": [
    "# Build a chain model\n",
    "inputs = tf.keras.Input(shape=(160, 160, 3))\n",
    "x = preprocess_input(inputs)\n",
    "x = base_model(x, training=False)\n",
    "x = global_average_layer(x)\n",
    "x = tf.keras.layers.Dropout(0.2)(x)\n",
    "outputs = prediction_layer(x)\n",
    "model = tf.keras.Model(inputs, outputs)\n",
    "model.summary()"
   ]
  },
  {
   "cell_type": "code",
   "execution_count": 55,
   "metadata": {},
   "outputs": [],
   "source": [
    "model.compile(optimizer='adam',\n",
    "              loss='sparse_categorical_crossentropy',\n",
    "              metrics=['accuracy'])\n"
   ]
  },
  {
   "cell_type": "code",
   "execution_count": 56,
   "metadata": {},
   "outputs": [
    {
     "name": "stdout",
     "output_type": "stream",
     "text": [
      "Epoch 1/10\n",
      "\u001b[1m205/205\u001b[0m \u001b[32m━━━━━━━━━━━━━━━━━━━━\u001b[0m\u001b[37m\u001b[0m \u001b[1m29s\u001b[0m 134ms/step - accuracy: 0.3517 - loss: 3.1144 - val_accuracy: 0.8227 - val_loss: 0.8223\n",
      "Epoch 2/10\n",
      "\u001b[1m205/205\u001b[0m \u001b[32m━━━━━━━━━━━━━━━━━━━━\u001b[0m\u001b[37m\u001b[0m \u001b[1m28s\u001b[0m 135ms/step - accuracy: 0.8795 - loss: 0.5753 - val_accuracy: 0.8765 - val_loss: 0.5575\n",
      "Epoch 3/10\n",
      "\u001b[1m205/205\u001b[0m \u001b[32m━━━━━━━━━━━━━━━━━━━━\u001b[0m\u001b[37m\u001b[0m \u001b[1m27s\u001b[0m 132ms/step - accuracy: 0.9367 - loss: 0.3171 - val_accuracy: 0.8851 - val_loss: 0.4705\n",
      "Epoch 4/10\n",
      "\u001b[1m205/205\u001b[0m \u001b[32m━━━━━━━━━━━━━━━━━━━━\u001b[0m\u001b[37m\u001b[0m \u001b[1m27s\u001b[0m 132ms/step - accuracy: 0.9587 - loss: 0.2195 - val_accuracy: 0.8900 - val_loss: 0.4226\n",
      "Epoch 5/10\n",
      "\u001b[1m205/205\u001b[0m \u001b[32m━━━━━━━━━━━━━━━━━━━━\u001b[0m\u001b[37m\u001b[0m \u001b[1m27s\u001b[0m 133ms/step - accuracy: 0.9736 - loss: 0.1593 - val_accuracy: 0.8900 - val_loss: 0.4089\n",
      "Epoch 6/10\n",
      "\u001b[1m205/205\u001b[0m \u001b[32m━━━━━━━━━━━━━━━━━━━━\u001b[0m\u001b[37m\u001b[0m \u001b[1m30s\u001b[0m 147ms/step - accuracy: 0.9839 - loss: 0.1148 - val_accuracy: 0.9010 - val_loss: 0.3781\n",
      "Epoch 7/10\n",
      "\u001b[1m205/205\u001b[0m \u001b[32m━━━━━━━━━━━━━━━━━━━━\u001b[0m\u001b[37m\u001b[0m \u001b[1m28s\u001b[0m 134ms/step - accuracy: 0.9915 - loss: 0.0916 - val_accuracy: 0.9059 - val_loss: 0.3561\n",
      "Epoch 8/10\n",
      "\u001b[1m205/205\u001b[0m \u001b[32m━━━━━━━━━━━━━━━━━━━━\u001b[0m\u001b[37m\u001b[0m \u001b[1m30s\u001b[0m 145ms/step - accuracy: 0.9915 - loss: 0.0732 - val_accuracy: 0.9095 - val_loss: 0.3563\n",
      "Epoch 9/10\n",
      "\u001b[1m205/205\u001b[0m \u001b[32m━━━━━━━━━━━━━━━━━━━━\u001b[0m\u001b[37m\u001b[0m \u001b[1m27s\u001b[0m 130ms/step - accuracy: 0.9954 - loss: 0.0609 - val_accuracy: 0.9169 - val_loss: 0.3411\n",
      "Epoch 10/10\n",
      "\u001b[1m205/205\u001b[0m \u001b[32m━━━━━━━━━━━━━━━━━━━━\u001b[0m\u001b[37m\u001b[0m \u001b[1m28s\u001b[0m 134ms/step - accuracy: 0.9956 - loss: 0.0551 - val_accuracy: 0.9144 - val_loss: 0.3302\n"
     ]
    }
   ],
   "source": [
    "# Train the model\n",
    "history = model.fit(train_dataset, validation_data=validation_dataset, epochs=10)"
   ]
  },
  {
   "cell_type": "code",
   "execution_count": 57,
   "metadata": {},
   "outputs": [
    {
     "name": "stdout",
     "output_type": "stream",
     "text": [
      "\u001b[1m26/26\u001b[0m \u001b[32m━━━━━━━━━━━━━━━━━━━━\u001b[0m\u001b[37m\u001b[0m \u001b[1m3s\u001b[0m 126ms/step - accuracy: 0.8960 - loss: 0.3761\n",
      "Validation Loss: 0.3302387297153473\n",
      "Validdation Accuracy: 0.9144254326820374\n"
     ]
    }
   ],
   "source": [
    "val_loss, val_accuracy = model.evaluate(validation_dataset)\n",
    "print(f\"Validation Loss: {val_loss}\")\n",
    "print(f\"Validdation Accuracy: {val_accuracy}\")\n"
   ]
  },
  {
   "cell_type": "code",
   "execution_count": 58,
   "metadata": {},
   "outputs": [],
   "source": [
    "# Save the model\n",
    "model.save('flowers_model.keras')"
   ]
  },
  {
   "cell_type": "code",
   "execution_count": null,
   "metadata": {},
   "outputs": [],
   "source": []
  }
 ],
 "metadata": {
  "kernelspec": {
   "display_name": "Python 3",
   "language": "python",
   "name": "python3"
  },
  "language_info": {
   "codemirror_mode": {
    "name": "ipython",
    "version": 3
   },
   "file_extension": ".py",
   "mimetype": "text/x-python",
   "name": "python",
   "nbconvert_exporter": "python",
   "pygments_lexer": "ipython3",
   "version": "3.12.3"
  }
 },
 "nbformat": 4,
 "nbformat_minor": 2
}
